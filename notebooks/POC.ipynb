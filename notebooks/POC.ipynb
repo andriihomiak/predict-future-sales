{
 "cells": [
  {
   "cell_type": "code",
   "execution_count": 1,
   "metadata": {},
   "outputs": [],
   "source": [
    "import pandas as pd"
   ]
  },
  {
   "cell_type": "code",
   "execution_count": 80,
   "metadata": {},
   "outputs": [],
   "source": [
    "from sklearn.ensemble import RandomForestRegressor, GradientBoostingRegressor\n",
    "from sklearn.metrics import mean_squared_error\n",
    "import numpy as np"
   ]
  },
  {
   "cell_type": "code",
   "execution_count": 81,
   "metadata": {},
   "outputs": [],
   "source": [
    "def rmse(a, b):\n",
    "    return np.sqrt(mean_squared_error(a, b))"
   ]
  },
  {
   "cell_type": "code",
   "execution_count": 3,
   "metadata": {},
   "outputs": [],
   "source": [
    "train = pd.read_csv(\"../data/train/sales.csv\")\n",
    "validation = pd.read_csv(\"../data/validation/sales.csv\")\n",
    "test = pd.read_csv(\"../data/test/test.csv\")"
   ]
  },
  {
   "cell_type": "code",
   "execution_count": 4,
   "metadata": {},
   "outputs": [
    {
     "data": {
      "text/html": [
       "<div>\n",
       "<style scoped>\n",
       "    .dataframe tbody tr th:only-of-type {\n",
       "        vertical-align: middle;\n",
       "    }\n",
       "\n",
       "    .dataframe tbody tr th {\n",
       "        vertical-align: top;\n",
       "    }\n",
       "\n",
       "    .dataframe thead th {\n",
       "        text-align: right;\n",
       "    }\n",
       "</style>\n",
       "<table border=\"1\" class=\"dataframe\">\n",
       "  <thead>\n",
       "    <tr style=\"text-align: right;\">\n",
       "      <th></th>\n",
       "      <th>date</th>\n",
       "      <th>date_block_num</th>\n",
       "      <th>shop_id</th>\n",
       "      <th>item_id</th>\n",
       "      <th>item_price</th>\n",
       "      <th>item_cnt_day</th>\n",
       "    </tr>\n",
       "  </thead>\n",
       "  <tbody>\n",
       "    <tr>\n",
       "      <th>0</th>\n",
       "      <td>2013-02-01</td>\n",
       "      <td>0</td>\n",
       "      <td>59</td>\n",
       "      <td>22154</td>\n",
       "      <td>999.00</td>\n",
       "      <td>1.0</td>\n",
       "    </tr>\n",
       "    <tr>\n",
       "      <th>1</th>\n",
       "      <td>2013-03-01</td>\n",
       "      <td>0</td>\n",
       "      <td>25</td>\n",
       "      <td>2552</td>\n",
       "      <td>899.00</td>\n",
       "      <td>1.0</td>\n",
       "    </tr>\n",
       "    <tr>\n",
       "      <th>2</th>\n",
       "      <td>2013-05-01</td>\n",
       "      <td>0</td>\n",
       "      <td>25</td>\n",
       "      <td>2552</td>\n",
       "      <td>899.00</td>\n",
       "      <td>-1.0</td>\n",
       "    </tr>\n",
       "    <tr>\n",
       "      <th>3</th>\n",
       "      <td>2013-06-01</td>\n",
       "      <td>0</td>\n",
       "      <td>25</td>\n",
       "      <td>2554</td>\n",
       "      <td>1709.05</td>\n",
       "      <td>1.0</td>\n",
       "    </tr>\n",
       "    <tr>\n",
       "      <th>4</th>\n",
       "      <td>2013-01-15</td>\n",
       "      <td>0</td>\n",
       "      <td>25</td>\n",
       "      <td>2555</td>\n",
       "      <td>1099.00</td>\n",
       "      <td>1.0</td>\n",
       "    </tr>\n",
       "    <tr>\n",
       "      <th>...</th>\n",
       "      <td>...</td>\n",
       "      <td>...</td>\n",
       "      <td>...</td>\n",
       "      <td>...</td>\n",
       "      <td>...</td>\n",
       "      <td>...</td>\n",
       "    </tr>\n",
       "    <tr>\n",
       "      <th>2797945</th>\n",
       "      <td>2015-01-10</td>\n",
       "      <td>33</td>\n",
       "      <td>25</td>\n",
       "      <td>7640</td>\n",
       "      <td>4040.00</td>\n",
       "      <td>1.0</td>\n",
       "    </tr>\n",
       "    <tr>\n",
       "      <th>2797946</th>\n",
       "      <td>2015-05-10</td>\n",
       "      <td>33</td>\n",
       "      <td>25</td>\n",
       "      <td>7780</td>\n",
       "      <td>248.00</td>\n",
       "      <td>1.0</td>\n",
       "    </tr>\n",
       "    <tr>\n",
       "      <th>2797947</th>\n",
       "      <td>2015-04-10</td>\n",
       "      <td>33</td>\n",
       "      <td>25</td>\n",
       "      <td>7233</td>\n",
       "      <td>599.00</td>\n",
       "      <td>1.0</td>\n",
       "    </tr>\n",
       "    <tr>\n",
       "      <th>2797948</th>\n",
       "      <td>2015-03-10</td>\n",
       "      <td>33</td>\n",
       "      <td>25</td>\n",
       "      <td>7233</td>\n",
       "      <td>599.00</td>\n",
       "      <td>1.0</td>\n",
       "    </tr>\n",
       "    <tr>\n",
       "      <th>2797949</th>\n",
       "      <td>2015-03-10</td>\n",
       "      <td>33</td>\n",
       "      <td>25</td>\n",
       "      <td>7460</td>\n",
       "      <td>299.00</td>\n",
       "      <td>1.0</td>\n",
       "    </tr>\n",
       "  </tbody>\n",
       "</table>\n",
       "<p>2797950 rows × 6 columns</p>\n",
       "</div>"
      ],
      "text/plain": [
       "               date  date_block_num  shop_id  item_id  item_price  \\\n",
       "0        2013-02-01               0       59    22154      999.00   \n",
       "1        2013-03-01               0       25     2552      899.00   \n",
       "2        2013-05-01               0       25     2552      899.00   \n",
       "3        2013-06-01               0       25     2554     1709.05   \n",
       "4        2013-01-15               0       25     2555     1099.00   \n",
       "...             ...             ...      ...      ...         ...   \n",
       "2797945  2015-01-10              33       25     7640     4040.00   \n",
       "2797946  2015-05-10              33       25     7780      248.00   \n",
       "2797947  2015-04-10              33       25     7233      599.00   \n",
       "2797948  2015-03-10              33       25     7233      599.00   \n",
       "2797949  2015-03-10              33       25     7460      299.00   \n",
       "\n",
       "         item_cnt_day  \n",
       "0                 1.0  \n",
       "1                 1.0  \n",
       "2                -1.0  \n",
       "3                 1.0  \n",
       "4                 1.0  \n",
       "...               ...  \n",
       "2797945           1.0  \n",
       "2797946           1.0  \n",
       "2797947           1.0  \n",
       "2797948           1.0  \n",
       "2797949           1.0  \n",
       "\n",
       "[2797950 rows x 6 columns]"
      ]
     },
     "execution_count": 4,
     "metadata": {},
     "output_type": "execute_result"
    }
   ],
   "source": [
    "train"
   ]
  },
  {
   "cell_type": "code",
   "execution_count": 31,
   "metadata": {},
   "outputs": [
    {
     "data": {
      "text/html": [
       "<div>\n",
       "<style scoped>\n",
       "    .dataframe tbody tr th:only-of-type {\n",
       "        vertical-align: middle;\n",
       "    }\n",
       "\n",
       "    .dataframe tbody tr th {\n",
       "        vertical-align: top;\n",
       "    }\n",
       "\n",
       "    .dataframe thead th {\n",
       "        text-align: right;\n",
       "    }\n",
       "</style>\n",
       "<table border=\"1\" class=\"dataframe\">\n",
       "  <thead>\n",
       "    <tr style=\"text-align: right;\">\n",
       "      <th></th>\n",
       "      <th>date</th>\n",
       "      <th>date_block_num</th>\n",
       "      <th>shop_id</th>\n",
       "      <th>item_id</th>\n",
       "      <th>item_price</th>\n",
       "      <th>item_cnt_day</th>\n",
       "    </tr>\n",
       "  </thead>\n",
       "  <tbody>\n",
       "    <tr>\n",
       "      <th>0</th>\n",
       "      <td>2013-02-01</td>\n",
       "      <td>2013-2</td>\n",
       "      <td>59</td>\n",
       "      <td>22154</td>\n",
       "      <td>999.00</td>\n",
       "      <td>1.0</td>\n",
       "    </tr>\n",
       "    <tr>\n",
       "      <th>1</th>\n",
       "      <td>2013-03-01</td>\n",
       "      <td>2013-3</td>\n",
       "      <td>25</td>\n",
       "      <td>2552</td>\n",
       "      <td>899.00</td>\n",
       "      <td>1.0</td>\n",
       "    </tr>\n",
       "    <tr>\n",
       "      <th>3</th>\n",
       "      <td>2013-06-01</td>\n",
       "      <td>2013-6</td>\n",
       "      <td>25</td>\n",
       "      <td>2554</td>\n",
       "      <td>1709.05</td>\n",
       "      <td>1.0</td>\n",
       "    </tr>\n",
       "    <tr>\n",
       "      <th>4</th>\n",
       "      <td>2013-01-15</td>\n",
       "      <td>2013-1</td>\n",
       "      <td>25</td>\n",
       "      <td>2555</td>\n",
       "      <td>1099.00</td>\n",
       "      <td>1.0</td>\n",
       "    </tr>\n",
       "    <tr>\n",
       "      <th>5</th>\n",
       "      <td>2013-10-01</td>\n",
       "      <td>2013-10</td>\n",
       "      <td>25</td>\n",
       "      <td>2564</td>\n",
       "      <td>349.00</td>\n",
       "      <td>1.0</td>\n",
       "    </tr>\n",
       "    <tr>\n",
       "      <th>...</th>\n",
       "      <td>...</td>\n",
       "      <td>...</td>\n",
       "      <td>...</td>\n",
       "      <td>...</td>\n",
       "      <td>...</td>\n",
       "      <td>...</td>\n",
       "    </tr>\n",
       "    <tr>\n",
       "      <th>2797945</th>\n",
       "      <td>2015-01-10</td>\n",
       "      <td>2015-1</td>\n",
       "      <td>25</td>\n",
       "      <td>7640</td>\n",
       "      <td>4040.00</td>\n",
       "      <td>1.0</td>\n",
       "    </tr>\n",
       "    <tr>\n",
       "      <th>2797946</th>\n",
       "      <td>2015-05-10</td>\n",
       "      <td>2015-5</td>\n",
       "      <td>25</td>\n",
       "      <td>7780</td>\n",
       "      <td>248.00</td>\n",
       "      <td>1.0</td>\n",
       "    </tr>\n",
       "    <tr>\n",
       "      <th>2797947</th>\n",
       "      <td>2015-04-10</td>\n",
       "      <td>2015-4</td>\n",
       "      <td>25</td>\n",
       "      <td>7233</td>\n",
       "      <td>599.00</td>\n",
       "      <td>1.0</td>\n",
       "    </tr>\n",
       "    <tr>\n",
       "      <th>2797948</th>\n",
       "      <td>2015-03-10</td>\n",
       "      <td>2015-3</td>\n",
       "      <td>25</td>\n",
       "      <td>7233</td>\n",
       "      <td>599.00</td>\n",
       "      <td>1.0</td>\n",
       "    </tr>\n",
       "    <tr>\n",
       "      <th>2797949</th>\n",
       "      <td>2015-03-10</td>\n",
       "      <td>2015-3</td>\n",
       "      <td>25</td>\n",
       "      <td>7460</td>\n",
       "      <td>299.00</td>\n",
       "      <td>1.0</td>\n",
       "    </tr>\n",
       "  </tbody>\n",
       "</table>\n",
       "<p>2790955 rows × 6 columns</p>\n",
       "</div>"
      ],
      "text/plain": [
       "              date date_block_num  shop_id  item_id  item_price  item_cnt_day\n",
       "0       2013-02-01         2013-2       59    22154      999.00           1.0\n",
       "1       2013-03-01         2013-3       25     2552      899.00           1.0\n",
       "3       2013-06-01         2013-6       25     2554     1709.05           1.0\n",
       "4       2013-01-15         2013-1       25     2555     1099.00           1.0\n",
       "5       2013-10-01        2013-10       25     2564      349.00           1.0\n",
       "...            ...            ...      ...      ...         ...           ...\n",
       "2797945 2015-01-10         2015-1       25     7640     4040.00           1.0\n",
       "2797946 2015-05-10         2015-5       25     7780      248.00           1.0\n",
       "2797947 2015-04-10         2015-4       25     7233      599.00           1.0\n",
       "2797948 2015-03-10         2015-3       25     7233      599.00           1.0\n",
       "2797949 2015-03-10         2015-3       25     7460      299.00           1.0\n",
       "\n",
       "[2790955 rows x 6 columns]"
      ]
     },
     "execution_count": 31,
     "metadata": {},
     "output_type": "execute_result"
    }
   ],
   "source": [
    "(train.query(\"item_cnt_day > 0\")\n",
    "    .assign(date=lambda df: pd.to_datetime(df.date))\n",
    "    .assign(date_block_num=lambda df: df.eval(\"date.dt.year\").astype(str) + \"-\" + df.eval(\"date.dt.month\").astype(str))\n",
    ")"
   ]
  },
  {
   "cell_type": "code",
   "execution_count": 59,
   "metadata": {},
   "outputs": [
    {
     "data": {
      "text/plain": [
       "2013"
      ]
     },
     "execution_count": 59,
     "metadata": {},
     "output_type": "execute_result"
    }
   ],
   "source": [
    "train_df.date_year.min()"
   ]
  },
  {
   "cell_type": "code",
   "execution_count": 62,
   "metadata": {},
   "outputs": [],
   "source": [
    "def aggregate_months(df):\n",
    "    return (df.query(\"item_cnt_day > 0\")\n",
    "        .assign(date=lambda df: pd.to_datetime(df.date))\n",
    "        .assign(\n",
    "            date_month=lambda df: df.date.dt.month,\n",
    "            date_year=lambda df: df.date.dt.year,\n",
    "        )\n",
    "        .assign(\n",
    "            date_block_num=lambda df: (df.date_year - 2013) * 12 + df.date_month,\n",
    "        )\n",
    "        .assign(date_block_num=lambda df: df.date_block_num.astype(int))\n",
    "        .groupby([\"shop_id\", \"item_id\", \"date_block_num\"])\n",
    "        .agg({\"item_cnt_day\": sum, \"date_year\": lambda r: r.iloc[0], \"date_month\": lambda r: r.iloc[0]})\n",
    "        .reset_index()\n",
    "        .sort_values([\"date_block_num\", \"shop_id\", \"item_id\"])\n",
    "        .assign(item_cnt_day=lambda df: df.item_cnt_day.clip(0, 20))\n",
    "    )"
   ]
  },
  {
   "cell_type": "code",
   "execution_count": 63,
   "metadata": {},
   "outputs": [],
   "source": [
    "train_df = aggregate_months(train)\n",
    "X_train, y_train = train_df.drop(columns=[\"item_cnt_day\"]), train_df[\"item_cnt_day\"]"
   ]
  },
  {
   "cell_type": "code",
   "execution_count": 64,
   "metadata": {},
   "outputs": [
    {
     "data": {
      "text/html": [
       "<div>\n",
       "<style scoped>\n",
       "    .dataframe tbody tr th:only-of-type {\n",
       "        vertical-align: middle;\n",
       "    }\n",
       "\n",
       "    .dataframe tbody tr th {\n",
       "        vertical-align: top;\n",
       "    }\n",
       "\n",
       "    .dataframe thead th {\n",
       "        text-align: right;\n",
       "    }\n",
       "</style>\n",
       "<table border=\"1\" class=\"dataframe\">\n",
       "  <thead>\n",
       "    <tr style=\"text-align: right;\">\n",
       "      <th></th>\n",
       "      <th>shop_id</th>\n",
       "      <th>item_id</th>\n",
       "      <th>date_block_num</th>\n",
       "      <th>item_cnt_day</th>\n",
       "      <th>date_year</th>\n",
       "      <th>date_month</th>\n",
       "    </tr>\n",
       "  </thead>\n",
       "  <tbody>\n",
       "    <tr>\n",
       "      <th>2</th>\n",
       "      <td>0</td>\n",
       "      <td>32</td>\n",
       "      <td>1</td>\n",
       "      <td>4.0</td>\n",
       "      <td>2013</td>\n",
       "      <td>1</td>\n",
       "    </tr>\n",
       "    <tr>\n",
       "      <th>8</th>\n",
       "      <td>0</td>\n",
       "      <td>33</td>\n",
       "      <td>1</td>\n",
       "      <td>2.0</td>\n",
       "      <td>2013</td>\n",
       "      <td>1</td>\n",
       "    </tr>\n",
       "    <tr>\n",
       "      <th>12</th>\n",
       "      <td>0</td>\n",
       "      <td>35</td>\n",
       "      <td>1</td>\n",
       "      <td>2.0</td>\n",
       "      <td>2013</td>\n",
       "      <td>1</td>\n",
       "    </tr>\n",
       "    <tr>\n",
       "      <th>22</th>\n",
       "      <td>0</td>\n",
       "      <td>43</td>\n",
       "      <td>1</td>\n",
       "      <td>1.0</td>\n",
       "      <td>2013</td>\n",
       "      <td>1</td>\n",
       "    </tr>\n",
       "    <tr>\n",
       "      <th>25</th>\n",
       "      <td>0</td>\n",
       "      <td>51</td>\n",
       "      <td>1</td>\n",
       "      <td>2.0</td>\n",
       "      <td>2013</td>\n",
       "      <td>1</td>\n",
       "    </tr>\n",
       "  </tbody>\n",
       "</table>\n",
       "</div>"
      ],
      "text/plain": [
       "    shop_id  item_id  date_block_num  item_cnt_day  date_year  date_month\n",
       "2         0       32               1           4.0       2013           1\n",
       "8         0       33               1           2.0       2013           1\n",
       "12        0       35               1           2.0       2013           1\n",
       "22        0       43               1           1.0       2013           1\n",
       "25        0       51               1           2.0       2013           1"
      ]
     },
     "execution_count": 64,
     "metadata": {},
     "output_type": "execute_result"
    }
   ],
   "source": [
    "train_df.head()"
   ]
  },
  {
   "cell_type": "code",
   "execution_count": 65,
   "metadata": {},
   "outputs": [],
   "source": [
    "val_df = aggregate_months(validation)\n",
    "X_val, y_val = val_df.drop(columns=[\"item_cnt_day\"]), val_df[\"item_cnt_day\"]"
   ]
  },
  {
   "cell_type": "code",
   "execution_count": 66,
   "metadata": {},
   "outputs": [],
   "source": [
    "# reg = RandomForestRegressor(n_jobs=-1, n_estimators=200)\n",
    "# reg.fit(X_train, y_train)"
   ]
  },
  {
   "cell_type": "code",
   "execution_count": 67,
   "metadata": {},
   "outputs": [],
   "source": [
    "gb_reg = GradientBoostingRegressor(n_estimators=200)"
   ]
  },
  {
   "cell_type": "code",
   "execution_count": 68,
   "metadata": {},
   "outputs": [
    {
     "data": {
      "text/plain": [
       "GradientBoostingRegressor(n_estimators=200)"
      ]
     },
     "execution_count": 68,
     "metadata": {},
     "output_type": "execute_result"
    }
   ],
   "source": [
    "gb_reg.fit(X_train, y_train)"
   ]
  },
  {
   "cell_type": "code",
   "execution_count": 75,
   "metadata": {},
   "outputs": [],
   "source": [
    "prediction = gb_reg.predict(X_val).clip(0, 20)"
   ]
  },
  {
   "cell_type": "code",
   "execution_count": 77,
   "metadata": {},
   "outputs": [],
   "source": [
    "test_range = pd.read_csv(\"../data/test.csv\", index_col=[\"shop_id\", \"item_id\"])\n",
    "target_df = test_range.join(val_df.set_index([\"shop_id\", \"item_id\"]).assign(prediction=prediction)).assign(\n",
    "    date_block_num=(24 + 9), \n",
    "    item_cnt_day=lambda df: df.item_cnt_day.fillna(0),\n",
    "    prediction=lambda df: df.prediction.fillna(0),\n",
    "    date_year=2015, \n",
    "    date_month=9,\n",
    ")"
   ]
  },
  {
   "cell_type": "code",
   "execution_count": 82,
   "metadata": {},
   "outputs": [
    {
     "data": {
      "text/plain": [
       "0.6759055848292221"
      ]
     },
     "execution_count": 82,
     "metadata": {},
     "output_type": "execute_result"
    }
   ],
   "source": [
    "rmse(target_df.item_cnt_day, target_df.prediction)"
   ]
  },
  {
   "cell_type": "code",
   "execution_count": null,
   "metadata": {},
   "outputs": [],
   "source": []
  }
 ],
 "metadata": {
  "kernelspec": {
   "display_name": "Python 3",
   "language": "python",
   "name": "python3"
  },
  "language_info": {
   "codemirror_mode": {
    "name": "ipython",
    "version": 3
   },
   "file_extension": ".py",
   "mimetype": "text/x-python",
   "name": "python",
   "nbconvert_exporter": "python",
   "pygments_lexer": "ipython3",
   "version": "3.7.6"
  }
 },
 "nbformat": 4,
 "nbformat_minor": 4
}
